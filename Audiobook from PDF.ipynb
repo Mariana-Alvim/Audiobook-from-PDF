{
 "cells": [
  {
   "cell_type": "markdown",
   "metadata": {},
   "source": [
    "# Audiobook from PDF"
   ]
  },
  {
   "cell_type": "markdown",
   "metadata": {},
   "source": [
    "Audiobook from pdf is a project that literally generates audio from the content of a book in pdf format.\n",
    "\n",
    "Two books were explored, both available on the Portal do Domínio Público ([link](http://www.dominiopublico.gov.br/pesquisa/PesquisaObraForm.do)). One of them (in the English version) was \"Wuthering Heights\" by Emily Brontë, a classic of English literature. And the other, an example of Brazilian literature, \"Os Sertões\" by Euclides da Cunha.\n",
    "\n",
    "**Source:** http://www.dominiopublico.gov.br"
   ]
  },
  {
   "cell_type": "markdown",
   "metadata": {},
   "source": [
    "# Extracting text from the PDF file\n",
    "--- "
   ]
  },
  {
   "cell_type": "code",
   "execution_count": 1,
   "metadata": {},
   "outputs": [],
   "source": [
    "import PyPDF2"
   ]
  },
  {
   "cell_type": "code",
   "execution_count": 2,
   "metadata": {},
   "outputs": [],
   "source": [
    "book = open('Wuthering Heights.pdf','rb')"
   ]
  },
  {
   "cell_type": "code",
   "execution_count": 3,
   "metadata": {},
   "outputs": [],
   "source": [
    "pdf_reader = PyPDF2.PdfFileReader(book)"
   ]
  },
  {
   "cell_type": "code",
   "execution_count": 4,
   "metadata": {},
   "outputs": [],
   "source": [
    "num_pages = pdf_reader.numPages"
   ]
  },
  {
   "cell_type": "markdown",
   "metadata": {},
   "source": [
    "# Audiobook\n",
    "---"
   ]
  },
  {
   "cell_type": "code",
   "execution_count": 5,
   "metadata": {},
   "outputs": [],
   "source": [
    "import pyttsx3"
   ]
  },
  {
   "cell_type": "code",
   "execution_count": 6,
   "metadata": {},
   "outputs": [
    {
     "name": "stdout",
     "output_type": "stream",
     "text": [
      "<Voice id=HKEY_LOCAL_MACHINE\\SOFTWARE\\Microsoft\\Speech\\Voices\\Tokens\\TTS_MS_PT-BR_MARIA_11.0\n",
      "          name=Microsoft Maria Desktop - Portuguese(Brazil)\n",
      "          languages=[]\n",
      "          gender=None\n",
      "          age=None>\n",
      "<Voice id=HKEY_LOCAL_MACHINE\\SOFTWARE\\Microsoft\\Speech\\Voices\\Tokens\\TTS_MS_EN-US_ZIRA_11.0\n",
      "          name=Microsoft Zira Desktop - English (United States)\n",
      "          languages=[]\n",
      "          gender=None\n",
      "          age=None>\n"
     ]
    }
   ],
   "source": [
    "engine = pyttsx3.init()\n",
    "\n",
    "voices = engine.getProperty('voices') #getting details of current voice \n",
    "\n",
    "for voice in voices:\n",
    "    print(voice)"
   ]
  },
  {
   "cell_type": "code",
   "execution_count": 7,
   "metadata": {},
   "outputs": [],
   "source": [
    "#engine.setProperty('voice', voices[0].id)  #changing index, changes voices. 0 for Portuguese language\n",
    "engine.setProperty('voice', voices[1].id)   #changing index, changes voices. 1 for English"
   ]
  },
  {
   "cell_type": "code",
   "execution_count": 8,
   "metadata": {},
   "outputs": [
    {
     "name": "stdout",
     "output_type": "stream",
     "text": [
      "Playing Audio Book\n"
     ]
    }
   ],
   "source": [
    "# Playing the Audiobook\n",
    "    \n",
    "print('Playing Audio Book')\n",
    "\n",
    "for num in range(0, num_pages):\n",
    "    page = pdf_reader.getPage(num)\n",
    "    data= page.extractText()\n",
    "    engine.say(data)\n",
    "    engine.runAndWait()"
   ]
  },
  {
   "cell_type": "markdown",
   "metadata": {},
   "source": [
    "# Saving the Audiobook as mp3 \n",
    "---"
   ]
  },
  {
   "cell_type": "code",
   "execution_count": 9,
   "metadata": {},
   "outputs": [],
   "source": [
    "# Importing RegEx module\n",
    "import re"
   ]
  },
  {
   "cell_type": "markdown",
   "metadata": {},
   "source": [
    "### **Saving the Chapter I of the Audiobook 'Wuthering Heights'**"
   ]
  },
  {
   "cell_type": "code",
   "execution_count": 10,
   "metadata": {},
   "outputs": [],
   "source": [
    "data = ''\n",
    "\n",
    "for num in range(3, 7):\n",
    "    page = pdf_reader.getPage(num)\n",
    "    page_data = page.extractText()\n",
    "\n",
    "    # Text cleaning\n",
    "    page_data = re.sub('Wuthering Heights\\nCHAPTER \\w \\d+', '', page_data) # Excluding the header and footer contents of the page\n",
    "    page_data = re.sub(r'([\\w\\.-]+)\\n([\\w\\.-]+)', r'\\1 \\2', page_data) # Removing line breaks that occur within sentences\n",
    "    data = data + page_data"
   ]
  },
  {
   "cell_type": "code",
   "execution_count": 13,
   "metadata": {},
   "outputs": [],
   "source": [
    "engine.say(data)\n",
    "engine.runAndWait()\n",
    "engine.save_to_file(data, 'Wuthering Heights - Chapter I.mp3')"
   ]
  },
  {
   "cell_type": "markdown",
   "metadata": {},
   "source": [
    "### **Saving the Chapter I of the Audiobook 'Os Sertões'**"
   ]
  },
  {
   "cell_type": "code",
   "execution_count": 14,
   "metadata": {},
   "outputs": [],
   "source": [
    "book_os_sertoes = open('Os Sertões.pdf','rb')\n",
    "\n",
    "pdf_reader_os_sertoes = PyPDF2.PdfFileReader(book_os_sertoes)\n",
    "\n",
    "num_pages_os_sertoes = pdf_reader_os_sertoes.numPages"
   ]
  },
  {
   "cell_type": "code",
   "execution_count": 15,
   "metadata": {},
   "outputs": [],
   "source": [
    "engine.setProperty('voice', voices[0].id)  #changing index, changes voices. 0 for Portuguese language"
   ]
  },
  {
   "cell_type": "code",
   "execution_count": 18,
   "metadata": {},
   "outputs": [],
   "source": [
    "data_os_sertoes = ''\n",
    "\n",
    "for n in range(2, 5):\n",
    "    page_os_sertoes = pdf_reader_os_sertoes.getPage(n)\n",
    "    page_content_os_sertoes = page_os_sertoes.extractText()\n",
    "\n",
    "    # Text cleaning\n",
    "    # Removing the page number located in the page header\n",
    "    page_content_os_sertoes = ' '.join(page_content_os_sertoes.split()[1:])\n",
    "\n",
    "    # To skip the chapter overview section, direct to the chapter content\n",
    "    page_content_os_sertoes = re.sub(' I . [\\s\\S]*?(?![A-Z]+)(?:\\.|\\?|\\!)(?!(?:\\d|[A-Z]))(?! [a-z])[\\s\\S]*? I ', '\\n I \\n', page_content_os_sertoes)\n",
    "    \n",
    "    data_os_sertoes += page_content_os_sertoes"
   ]
  },
  {
   "cell_type": "code",
   "execution_count": 20,
   "metadata": {},
   "outputs": [],
   "source": [
    "engine.say(data_os_sertoes)\n",
    "engine.runAndWait()\n",
    "engine.save_to_file(data_os_sertoes, 'Os Sertões - Capítulo I.mp3')"
   ]
  }
 ],
 "metadata": {
  "kernelspec": {
   "display_name": "Python 3.9.7 ('base')",
   "language": "python",
   "name": "python3"
  },
  "language_info": {
   "codemirror_mode": {
    "name": "ipython",
    "version": 3
   },
   "file_extension": ".py",
   "mimetype": "text/x-python",
   "name": "python",
   "nbconvert_exporter": "python",
   "pygments_lexer": "ipython3",
   "version": "3.9.7"
  },
  "orig_nbformat": 4,
  "vscode": {
   "interpreter": {
    "hash": "ca02d05c83cb06a4d3d1bb3c2ad95bd9ee4b26f688526444572dc942a69d580d"
   }
  }
 },
 "nbformat": 4,
 "nbformat_minor": 2
}
